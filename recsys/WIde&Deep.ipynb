{
 "cells": [
  {
   "cell_type": "code",
   "execution_count": 48,
   "metadata": {},
   "outputs": [],
   "source": [
    "import tensorflow as tf\n",
    "import pandas as pd\n",
    "import numpy as np\n",
    "from tensorflow import feature_column\n",
    "from tensorflow.keras.layers import Embedding, Input, Dot, Dense, Flatten, Multiply, Concatenate, DenseFeatures\n",
    "from tensorflow.keras import Model\n",
    "from tensorflow.keras.optimizers import Adagrad, Adam, SGD, RMSprop\n",
    "from tensorflow.keras.regularizers import l2\n",
    "from tensorflow.keras.metrics import MeanSquaredError, RootMeanSquaredError\n",
    "import datetime"
   ]
  },
  {
   "cell_type": "markdown",
   "metadata": {},
   "source": [
    "# Preprocess data"
   ]
  },
  {
   "cell_type": "code",
   "execution_count": 2,
   "metadata": {},
   "outputs": [],
   "source": [
    "def preprocess_data(data_path):\n",
    "    header_data = ['user_id', 'item_id', 'rating', 'timestamp']\n",
    "    data = pd.read_csv(data_path, sep='\\t', names=header_data)\n",
    "    data = data.drop(\"timestamp\", axis=1).astype(int)\n",
    "    \n",
    "    num_items = data[\"item_id\"].max()\n",
    "    num_users = data[\"user_id\"].max()\n",
    "    \n",
    "    y = data[\"rating\"]\n",
    "    y = np.where(y==5, 1, 0)\n",
    "\n",
    "    X = data.drop(\"rating\", axis=1)\n",
    "    # Minus 1 so the index starts from 0\n",
    "    X = X-1\n",
    "    X = X.astype('category')\n",
    "    \n",
    "    return X, y, num_items, num_users"
   ]
  },
  {
   "cell_type": "code",
   "execution_count": 37,
   "metadata": {},
   "outputs": [],
   "source": [
    "# Read data\n",
    "# User data\n",
    "header_user = ['user_id', 'age', 'gender', 'occupation', 'zip_code']\n",
    "data_user = pd.read_csv('data/u.user', sep='|', names=header_user)\n",
    "data_user = data_user.drop(['zip_code'], axis=1)\n",
    "\n",
    "# Item data\n",
    "header_item = ['item_id', 'title', 'release_date', 'video_release_date', 'IMDb_URL', 'unknown', 'Action', 'Adventure', 'Animation', 'Children',\n",
    "        'Comedy', 'Crime', 'Documentary', 'Drama', 'Fantasy', 'Film-Noir', 'Horror', 'Musical', 'Mystery', 'Romance', 'Sci-Fi', \n",
    "        'Thriller', 'War', 'Western']\n",
    "data_item = pd.read_csv('data/u.item', sep='|', names=header_item, encoding = \"ISO-8859-1\")\n",
    "data_item = data_item.drop(['release_date', 'title', 'video_release_date', 'IMDb_URL'], axis=1)\n",
    "\n",
    "# User Item interaction data\n",
    "X_train, y_train, num_items, num_users = preprocess_data(\"data/ub.base\")\n",
    "X_test , y_test, _, _ = preprocess_data(\"data/ub.test\")\n"
   ]
  },
  {
   "cell_type": "code",
   "execution_count": 38,
   "metadata": {},
   "outputs": [],
   "source": [
    "# Data merge and label separation\n",
    "X_train = X_train.merge(data_user, left_on=\"user_id\", right_on=\"user_id\", suffixes=(False, False))\n",
    "X_train = X_train.merge(data_item, left_on=\"item_id\", right_on=\"item_id\")\n",
    "X_test = X_test.merge(data_user, left_on=\"user_id\", right_on=\"user_id\")\n",
    "X_test = X_test.merge(data_item, left_on=\"item_id\", right_on=\"item_id\")"
   ]
  },
  {
   "cell_type": "code",
   "execution_count": 65,
   "metadata": {},
   "outputs": [
    {
     "data": {
      "text/html": [
       "<div>\n",
       "<style scoped>\n",
       "    .dataframe tbody tr th:only-of-type {\n",
       "        vertical-align: middle;\n",
       "    }\n",
       "\n",
       "    .dataframe tbody tr th {\n",
       "        vertical-align: top;\n",
       "    }\n",
       "\n",
       "    .dataframe thead th {\n",
       "        text-align: right;\n",
       "    }\n",
       "</style>\n",
       "<table border=\"1\" class=\"dataframe\">\n",
       "  <thead>\n",
       "    <tr style=\"text-align: right;\">\n",
       "      <th></th>\n",
       "      <th>user_id</th>\n",
       "      <th>item_id</th>\n",
       "      <th>age</th>\n",
       "      <th>gender</th>\n",
       "      <th>occupation</th>\n",
       "      <th>unknown</th>\n",
       "      <th>Action</th>\n",
       "      <th>Adventure</th>\n",
       "      <th>Animation</th>\n",
       "      <th>Children</th>\n",
       "      <th>...</th>\n",
       "      <th>Fantasy</th>\n",
       "      <th>Film-Noir</th>\n",
       "      <th>Horror</th>\n",
       "      <th>Musical</th>\n",
       "      <th>Mystery</th>\n",
       "      <th>Romance</th>\n",
       "      <th>Sci-Fi</th>\n",
       "      <th>Thriller</th>\n",
       "      <th>War</th>\n",
       "      <th>Western</th>\n",
       "    </tr>\n",
       "  </thead>\n",
       "  <tbody>\n",
       "    <tr>\n",
       "      <th>0</th>\n",
       "      <td>1</td>\n",
       "      <td>9</td>\n",
       "      <td>24</td>\n",
       "      <td>M</td>\n",
       "      <td>technician</td>\n",
       "      <td>0</td>\n",
       "      <td>0</td>\n",
       "      <td>0</td>\n",
       "      <td>0</td>\n",
       "      <td>0</td>\n",
       "      <td>...</td>\n",
       "      <td>0</td>\n",
       "      <td>0</td>\n",
       "      <td>0</td>\n",
       "      <td>0</td>\n",
       "      <td>0</td>\n",
       "      <td>0</td>\n",
       "      <td>0</td>\n",
       "      <td>0</td>\n",
       "      <td>0</td>\n",
       "      <td>0</td>\n",
       "    </tr>\n",
       "    <tr>\n",
       "      <th>1</th>\n",
       "      <td>6</td>\n",
       "      <td>9</td>\n",
       "      <td>42</td>\n",
       "      <td>M</td>\n",
       "      <td>executive</td>\n",
       "      <td>0</td>\n",
       "      <td>0</td>\n",
       "      <td>0</td>\n",
       "      <td>0</td>\n",
       "      <td>0</td>\n",
       "      <td>...</td>\n",
       "      <td>0</td>\n",
       "      <td>0</td>\n",
       "      <td>0</td>\n",
       "      <td>0</td>\n",
       "      <td>0</td>\n",
       "      <td>0</td>\n",
       "      <td>0</td>\n",
       "      <td>0</td>\n",
       "      <td>0</td>\n",
       "      <td>0</td>\n",
       "    </tr>\n",
       "    <tr>\n",
       "      <th>2</th>\n",
       "      <td>48</td>\n",
       "      <td>9</td>\n",
       "      <td>45</td>\n",
       "      <td>M</td>\n",
       "      <td>administrator</td>\n",
       "      <td>0</td>\n",
       "      <td>0</td>\n",
       "      <td>0</td>\n",
       "      <td>0</td>\n",
       "      <td>0</td>\n",
       "      <td>...</td>\n",
       "      <td>0</td>\n",
       "      <td>0</td>\n",
       "      <td>0</td>\n",
       "      <td>0</td>\n",
       "      <td>0</td>\n",
       "      <td>0</td>\n",
       "      <td>0</td>\n",
       "      <td>0</td>\n",
       "      <td>0</td>\n",
       "      <td>0</td>\n",
       "    </tr>\n",
       "    <tr>\n",
       "      <th>3</th>\n",
       "      <td>58</td>\n",
       "      <td>9</td>\n",
       "      <td>27</td>\n",
       "      <td>M</td>\n",
       "      <td>programmer</td>\n",
       "      <td>0</td>\n",
       "      <td>0</td>\n",
       "      <td>0</td>\n",
       "      <td>0</td>\n",
       "      <td>0</td>\n",
       "      <td>...</td>\n",
       "      <td>0</td>\n",
       "      <td>0</td>\n",
       "      <td>0</td>\n",
       "      <td>0</td>\n",
       "      <td>0</td>\n",
       "      <td>0</td>\n",
       "      <td>0</td>\n",
       "      <td>0</td>\n",
       "      <td>0</td>\n",
       "      <td>0</td>\n",
       "    </tr>\n",
       "    <tr>\n",
       "      <th>4</th>\n",
       "      <td>62</td>\n",
       "      <td>9</td>\n",
       "      <td>27</td>\n",
       "      <td>F</td>\n",
       "      <td>administrator</td>\n",
       "      <td>0</td>\n",
       "      <td>0</td>\n",
       "      <td>0</td>\n",
       "      <td>0</td>\n",
       "      <td>0</td>\n",
       "      <td>...</td>\n",
       "      <td>0</td>\n",
       "      <td>0</td>\n",
       "      <td>0</td>\n",
       "      <td>0</td>\n",
       "      <td>0</td>\n",
       "      <td>0</td>\n",
       "      <td>0</td>\n",
       "      <td>0</td>\n",
       "      <td>0</td>\n",
       "      <td>0</td>\n",
       "    </tr>\n",
       "  </tbody>\n",
       "</table>\n",
       "<p>5 rows × 24 columns</p>\n",
       "</div>"
      ],
      "text/plain": [
       "   user_id  item_id  age gender     occupation  unknown  Action  Adventure  \\\n",
       "0        1        9   24      M     technician        0       0          0   \n",
       "1        6        9   42      M      executive        0       0          0   \n",
       "2       48        9   45      M  administrator        0       0          0   \n",
       "3       58        9   27      M     programmer        0       0          0   \n",
       "4       62        9   27      F  administrator        0       0          0   \n",
       "\n",
       "   Animation  Children  ...  Fantasy  Film-Noir  Horror  Musical  Mystery  \\\n",
       "0          0         0  ...        0          0       0        0        0   \n",
       "1          0         0  ...        0          0       0        0        0   \n",
       "2          0         0  ...        0          0       0        0        0   \n",
       "3          0         0  ...        0          0       0        0        0   \n",
       "4          0         0  ...        0          0       0        0        0   \n",
       "\n",
       "   Romance  Sci-Fi  Thriller  War  Western  \n",
       "0        0       0         0    0        0  \n",
       "1        0       0         0    0        0  \n",
       "2        0       0         0    0        0  \n",
       "3        0       0         0    0        0  \n",
       "4        0       0         0    0        0  \n",
       "\n",
       "[5 rows x 24 columns]"
      ]
     },
     "execution_count": 65,
     "metadata": {},
     "output_type": "execute_result"
    }
   ],
   "source": [
    "X_train.head()"
   ]
  },
  {
   "cell_type": "code",
   "execution_count": 84,
   "metadata": {},
   "outputs": [
    {
     "data": {
      "text/plain": [
       "array(['technician', 'executive', 'administrator', 'programmer',\n",
       "       'marketing', 'student', 'artist', 'engineer', 'librarian',\n",
       "       'educator', 'other', 'scientist', 'homemaker', 'salesman',\n",
       "       'healthcare', 'entertainment', 'retired', 'writer', 'none',\n",
       "       'lawyer', 'doctor'], dtype=object)"
      ]
     },
     "execution_count": 84,
     "metadata": {},
     "output_type": "execute_result"
    }
   ],
   "source": [
    "X_train[\"occupation\"].unique()"
   ]
  },
  {
   "cell_type": "code",
   "execution_count": 4,
   "metadata": {},
   "outputs": [
    {
     "name": "stdout",
     "output_type": "stream",
     "text": [
      "(90570, 2) (90570,) (9430, 2) (9430,)\n"
     ]
    }
   ],
   "source": [
    "print(X_train.shape, y_train.shape, X_test.shape, y_test.shape)"
   ]
  },
  {
   "cell_type": "markdown",
   "metadata": {},
   "source": [
    "# Get model"
   ]
  },
  {
   "cell_type": "code",
   "execution_count": 83,
   "metadata": {},
   "outputs": [],
   "source": [
    "real = {\n",
    "    'age' : tf.feature_column.numeric_column([\"age\"]) \n",
    "}\n",
    "\n",
    "sparse = {\n",
    "        categorical_feature: tf.feature_column.categorical_column_with_identity(categorical_feature,num_buckets=2)\n",
    "        for categorical_feature in ['unknown','Action', 'Adventure', 'Animation', 'Children', \n",
    "                                    'Comedy', 'Crime','Documentary', 'Drama', 'Fantasy', 'Film-Noir', \n",
    "                                    'Horror', 'Musical','Mystery', 'Romance', 'Sci-Fi', 'Thriller', \n",
    "                                    'War', 'Western'] \n",
    "}\n",
    "sparse.update({\n",
    "        'occupation': tf.feature_column.categorical_column_with_vocabulary_list(\n",
    "            'occupation', vocabulary_list=['technician', 'executive', 'administrator', 'programmer',\n",
    "                                           'marketing', 'student', 'artist', 'engineer', 'librarian',\n",
    "                                           'educator', 'other', 'scientist', 'homemaker', 'salesman',\n",
    "                                           'healthcare', 'entertainment', 'retired', 'writer', 'none',\n",
    "                                           'lawyer', 'doctor']),\n",
    "        'gender': tf.feature_column.categorical_column_with_vocabulary_list(\n",
    "            'gender', vocabulary_list=['M', 'F'])})"
   ]
  },
  {
   "cell_type": "code",
   "execution_count": 67,
   "metadata": {},
   "outputs": [
    {
     "data": {
      "text/plain": [
       "{'unknown': VocabularyListCategoricalColumn(key='unknown', vocabulary_list=(1, 0), dtype=tf.int64, default_value=-1, num_oov_buckets=0),\n",
       " 'Action': VocabularyListCategoricalColumn(key='Action', vocabulary_list=(1, 0), dtype=tf.int64, default_value=-1, num_oov_buckets=0),\n",
       " 'Adventure': VocabularyListCategoricalColumn(key='Adventure', vocabulary_list=(1, 0), dtype=tf.int64, default_value=-1, num_oov_buckets=0),\n",
       " 'Animation': VocabularyListCategoricalColumn(key='Animation', vocabulary_list=(1, 0), dtype=tf.int64, default_value=-1, num_oov_buckets=0),\n",
       " 'Children': VocabularyListCategoricalColumn(key='Children', vocabulary_list=(1, 0), dtype=tf.int64, default_value=-1, num_oov_buckets=0),\n",
       " 'Comedy': VocabularyListCategoricalColumn(key='Comedy', vocabulary_list=(1, 0), dtype=tf.int64, default_value=-1, num_oov_buckets=0),\n",
       " 'Crime': VocabularyListCategoricalColumn(key='Crime', vocabulary_list=(1, 0), dtype=tf.int64, default_value=-1, num_oov_buckets=0),\n",
       " 'Documentary': VocabularyListCategoricalColumn(key='Documentary', vocabulary_list=(1, 0), dtype=tf.int64, default_value=-1, num_oov_buckets=0),\n",
       " 'Drama': VocabularyListCategoricalColumn(key='Drama', vocabulary_list=(1, 0), dtype=tf.int64, default_value=-1, num_oov_buckets=0),\n",
       " 'Fantasy': VocabularyListCategoricalColumn(key='Fantasy', vocabulary_list=(1, 0), dtype=tf.int64, default_value=-1, num_oov_buckets=0),\n",
       " 'Film-Noir': VocabularyListCategoricalColumn(key='Film-Noir', vocabulary_list=(1, 0), dtype=tf.int64, default_value=-1, num_oov_buckets=0),\n",
       " 'Horror': VocabularyListCategoricalColumn(key='Horror', vocabulary_list=(1, 0), dtype=tf.int64, default_value=-1, num_oov_buckets=0),\n",
       " 'Musical': VocabularyListCategoricalColumn(key='Musical', vocabulary_list=(1, 0), dtype=tf.int64, default_value=-1, num_oov_buckets=0),\n",
       " 'Mystery': VocabularyListCategoricalColumn(key='Mystery', vocabulary_list=(1, 0), dtype=tf.int64, default_value=-1, num_oov_buckets=0),\n",
       " 'Romance': VocabularyListCategoricalColumn(key='Romance', vocabulary_list=(1, 0), dtype=tf.int64, default_value=-1, num_oov_buckets=0),\n",
       " 'Sci-Fi': VocabularyListCategoricalColumn(key='Sci-Fi', vocabulary_list=(1, 0), dtype=tf.int64, default_value=-1, num_oov_buckets=0),\n",
       " 'Thriller': VocabularyListCategoricalColumn(key='Thriller', vocabulary_list=(1, 0), dtype=tf.int64, default_value=-1, num_oov_buckets=0),\n",
       " 'War': VocabularyListCategoricalColumn(key='War', vocabulary_list=(1, 0), dtype=tf.int64, default_value=-1, num_oov_buckets=0),\n",
       " 'Western': VocabularyListCategoricalColumn(key='Western', vocabulary_list=(1, 0), dtype=tf.int64, default_value=-1, num_oov_buckets=0)}"
      ]
     },
     "execution_count": 67,
     "metadata": {},
     "output_type": "execute_result"
    }
   ],
   "source": [
    "sparse"
   ]
  },
  {
   "cell_type": "code",
   "execution_count": null,
   "metadata": {},
   "outputs": [],
   "source": []
  }
 ],
 "metadata": {
  "kernelspec": {
   "display_name": "Python 3",
   "language": "python",
   "name": "python3"
  },
  "language_info": {
   "codemirror_mode": {
    "name": "ipython",
    "version": 3
   },
   "file_extension": ".py",
   "mimetype": "text/x-python",
   "name": "python",
   "nbconvert_exporter": "python",
   "pygments_lexer": "ipython3",
   "version": "3.7.3"
  }
 },
 "nbformat": 4,
 "nbformat_minor": 4
}
