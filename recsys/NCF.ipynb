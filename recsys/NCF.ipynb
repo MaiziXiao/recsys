{
 "cells": [
  {
   "cell_type": "code",
   "execution_count": 1,
   "metadata": {},
   "outputs": [],
   "source": [
    "import tensorflow as tf\n",
    "import pandas as pd\n",
    "import numpy as np\n",
    "from tensorflow.keras.layers import Embedding, Input, Dot, Dense, Flatten, Multiply, Concatenate\n",
    "from tensorflow.keras import Model\n",
    "from tensorflow.keras.optimizers import Adagrad, Adam, SGD, RMSprop\n",
    "from tensorflow.keras.regularizers import l2\n",
    "from tensorflow.keras.metrics import MeanSquaredError, RootMeanSquaredError\n",
    "import datetime"
   ]
  },
  {
   "cell_type": "markdown",
   "metadata": {},
   "source": [
    "# Preprocess data"
   ]
  },
  {
   "cell_type": "code",
   "execution_count": 2,
   "metadata": {},
   "outputs": [],
   "source": [
    "def preprocess_data(data_path):\n",
    "    header_data = ['user_id', 'item_id', 'rating', 'timestamp']\n",
    "    data = pd.read_csv(data_path, sep='\\t', names=header_data)\n",
    "    data = data.drop(\"timestamp\", axis=1).astype(int)\n",
    "    \n",
    "    num_items = data[\"item_id\"].max()\n",
    "    num_users = data[\"user_id\"].max()\n",
    "    \n",
    "    y = data[\"rating\"]\n",
    "    y = np.where(y==5, 1, 0)\n",
    "\n",
    "    X = data.drop(\"rating\", axis=1)\n",
    "    # Minus 1 so the index starts from 0\n",
    "    X = X-1\n",
    "    X = X.astype('category')\n",
    "    \n",
    "    return X, y, num_items, num_users"
   ]
  },
  {
   "cell_type": "code",
   "execution_count": 3,
   "metadata": {},
   "outputs": [],
   "source": [
    "X_train, y_train, num_items, num_users = preprocess_data(\"data/ub.base\")\n",
    "X_test , y_test, _, _ = preprocess_data(\"data/ub.test\")"
   ]
  },
  {
   "cell_type": "code",
   "execution_count": 4,
   "metadata": {},
   "outputs": [
    {
     "name": "stdout",
     "output_type": "stream",
     "text": [
      "(90570, 2) (90570,) (9430, 2) (9430,)\n"
     ]
    }
   ],
   "source": [
    "print(X_train.shape, y_train.shape, X_test.shape, y_test.shape)"
   ]
  },
  {
   "cell_type": "markdown",
   "metadata": {},
   "source": [
    "# Negative Sampling"
   ]
  },
  {
   "cell_type": "code",
   "execution_count": 5,
   "metadata": {},
   "outputs": [],
   "source": [
    "def get_train_instances(users, items, num_negatives):\n",
    "    user_input, item_input, labels = [],[],[]\n",
    "    num_users = users.shape[0]\n",
    "    for (u, i) in zip(users, items):\n",
    "        # positive instance\n",
    "        user_input.append(u)\n",
    "        item_input.append(i)\n",
    "        labels.append(1)\n",
    "        # negative instances\n",
    "        for t in range(num_negatives):\n",
    "            j = np.random.randint(num_items)\n",
    "#             while train.has_key((u, j)):\n",
    "#                 j = np.random.randint(num_items)\n",
    "            user_input.append(u)\n",
    "            item_input.append(j)\n",
    "            labels.append(0)\n",
    "    return user_input, item_input, labels"
   ]
  },
  {
   "cell_type": "code",
   "execution_count": 6,
   "metadata": {},
   "outputs": [],
   "source": [
    "user_input_training, item_input_training, labels_training \\\n",
    "    = get_train_instances(X_train[\"user_id\"].to_numpy(), X_train[\"item_id\"].to_numpy(), 4)\n",
    "user_input_test, item_input_test, labels_test \\\n",
    "    = get_train_instances(X_test[\"user_id\"].to_numpy(), X_test[\"item_id\"].to_numpy(), 4)"
   ]
  },
  {
   "cell_type": "code",
   "execution_count": 7,
   "metadata": {},
   "outputs": [
    {
     "name": "stdout",
     "output_type": "stream",
     "text": [
      "452850 47150\n"
     ]
    }
   ],
   "source": [
    "print(len(user_input_training), len(user_input_test))"
   ]
  },
  {
   "cell_type": "markdown",
   "metadata": {},
   "source": [
    "# Get model"
   ]
  },
  {
   "cell_type": "code",
   "execution_count": 8,
   "metadata": {},
   "outputs": [],
   "source": [
    "# Dot product model\n",
    "def get_model_dot_product(num_users, num_items, latent_dim, regs=[0,0]):\n",
    "    \n",
    "    # Input variables\n",
    "    user_input = Input(shape=(1,), dtype='int32', name = 'user_input')\n",
    "    item_input = Input(shape=(1,), dtype='int32', name = 'item_input')\n",
    "    \n",
    "    # Embedding layers\n",
    "    user_embedding_layer = Embedding(input_dim = num_users, output_dim = latent_dim, name = 'user_embedding',\n",
    "                                  embeddings_initializer='uniform', input_length=1)\n",
    "    user_embedding = user_embedding_layer(user_input)\n",
    "    \n",
    "    item_embedding_layer = Embedding(input_dim = num_items, output_dim = latent_dim, name = 'item_embedding',\n",
    "                                  embeddings_initializer='uniform', input_length=1)\n",
    "    item_embedding = item_embedding_layer(item_input)\n",
    "    \n",
    "    # Flatten embeddings\n",
    "    user_latent = Flatten()(user_embedding)\n",
    "    item_latent = Flatten()(item_embedding)\n",
    "    \n",
    "    # Dot product layer\n",
    "    dotted = Dot(axes=1)([user_latent, item_latent])\n",
    "    \n",
    "    # add the sigmoid output layer\n",
    "    output = Dense(1, activation='sigmoid')(dotted)\n",
    "    \n",
    "    model = Model([user_input, item_input], output)\n",
    "    \n",
    "    return model"
   ]
  },
  {
   "cell_type": "code",
   "execution_count": 9,
   "metadata": {},
   "outputs": [],
   "source": [
    "# GMF model\n",
    "def get_model_gmf(num_users, num_items, latent_dim, regs=[0,0]):\n",
    "    \n",
    "    # Input variables\n",
    "    user_input = Input(shape=(1,), dtype='int32', name = 'user_input')\n",
    "    item_input = Input(shape=(1,), dtype='int32', name = 'item_input')\n",
    "    \n",
    "    # Embedding layers\n",
    "    user_embedding_layer = Embedding(input_dim = num_users, output_dim = latent_dim, name = 'user_embedding',\n",
    "                                  embeddings_initializer='uniform', input_length=1)\n",
    "    user_embedding = user_embedding_layer(user_input)\n",
    "    \n",
    "    item_embedding_layer = Embedding(input_dim = num_items, output_dim = latent_dim, name = 'item_embedding',\n",
    "                                  embeddings_initializer='uniform', input_length=1)\n",
    "    item_embedding = item_embedding_layer(item_input)\n",
    "    \n",
    "    # Flatten embeddings\n",
    "    user_latent = Flatten()(user_embedding)\n",
    "    item_latent = Flatten()(item_embedding)\n",
    "    \n",
    "    # Element wise multiply layer\n",
    "    multiply = Multiply()([user_latent, item_latent])\n",
    "    \n",
    "    # add the sigmoid output layer\n",
    "    output = Dense(1, activation='sigmoid')(multiply)\n",
    "    \n",
    "    model = Model([user_input, item_input], output)\n",
    "    \n",
    "    return model"
   ]
  },
  {
   "cell_type": "code",
   "execution_count": 10,
   "metadata": {},
   "outputs": [],
   "source": [
    "# MLP model\n",
    "def get_model_mlp(num_users, num_items,  layers = [20,10], reg_layers=[0,0]):\n",
    "    assert len(layers) == len(reg_layers)\n",
    "    num_layer = len(layers) #Number of layers in the MLP\n",
    "    \n",
    "    # Input variables\n",
    "    user_input = Input(shape=(1,), dtype='int32', name = 'user_input')\n",
    "    item_input = Input(shape=(1,), dtype='int32', name = 'item_input')\n",
    "    \n",
    "    # Embedding layers, embedding size is half of the first MLP layer\n",
    "    user_embedding_layer = Embedding(input_dim = num_users, output_dim = int(layers[0]/2), name = 'user_embedding',\n",
    "                                  embeddings_initializer='uniform', input_length=1)\n",
    "    user_embedding = user_embedding_layer(user_input)\n",
    "    \n",
    "    item_embedding_layer = Embedding(input_dim = num_items, output_dim = int(layers[0]/2), name = 'item_embedding',\n",
    "                                  embeddings_initializer='uniform', input_length=1)\n",
    "    item_embedding = item_embedding_layer(item_input)\n",
    "    \n",
    "    # Flatten embeddings\n",
    "    user_latent = Flatten()(user_embedding)\n",
    "    item_latent = Flatten()(item_embedding)\n",
    "    \n",
    "    # Concatenate two embeddings\n",
    "    vector = Concatenate()([user_latent, item_latent])\n",
    "    \n",
    "    # MLP layer\n",
    "    for idx in range(1, num_layer):\n",
    "        layer = Dense(layers[idx], kernel_regularizer= l2(reg_layers[idx]), activation='relu', name = 'layer%d' %idx)\n",
    "        vector = layer(vector)\n",
    "    \n",
    "    # Final prediction layer\n",
    "    output = Dense(1, activation='sigmoid', name = 'prediction')(vector)\n",
    "    \n",
    "    model = Model([user_input, item_input], output)\n",
    "    \n",
    "    return model"
   ]
  },
  {
   "cell_type": "code",
   "execution_count": 11,
   "metadata": {},
   "outputs": [],
   "source": [
    "# NMF\n",
    "def get_model_nmf(num_users, num_items,  mf_dim=10, mlp_layers=[20, 10], reg_mlp_layers=[1, 1], reg_mf=0):\n",
    "    assert len(mlp_layers) == len(reg_mlp_layers)\n",
    "    num_layer = len(mlp_layers) #Number of layers in the MLP\n",
    "    \n",
    "    # Input variables\n",
    "    user_input = Input(shape=(1,), dtype='int32', name = 'user_input')\n",
    "    item_input = Input(shape=(1,), dtype='int32', name = 'item_input')\n",
    "    \n",
    "    # Embedding layers, embedding size is half of the first MLP layer\n",
    "    MF_Embedding_User = Embedding(input_dim = num_users, output_dim = mf_dim, name = 'MF_user_embedding',\n",
    "                                  embeddings_initializer='uniform', input_length=1)(user_input)\n",
    "    MF_Embedding_Item = Embedding(input_dim = num_items, output_dim = mf_dim, name = 'MF_item_embedding',\n",
    "                                  embeddings_initializer='uniform', input_length=1)(item_input)\n",
    "    MLP_Embedding_User = Embedding(input_dim = num_users, output_dim = int(mlp_layers[0]/2), name = 'MLP_user_embedding',\n",
    "                                  embeddings_initializer='uniform', input_length=1)(user_input)\n",
    "    MLP_Embedding_Item = Embedding(input_dim = num_items, output_dim = int(mlp_layers[0]/2), name = 'MLP_item_embedding',\n",
    "                                  embeddings_initializer='uniform', input_length=1)(item_input)\n",
    "    \n",
    "    # MF part\n",
    "    MF_user_latent = Flatten()(MF_Embedding_User)\n",
    "    MF_item_latent = Flatten()(MF_Embedding_Item)\n",
    "    mf_vector = Multiply(name=\"MF_output\")([MF_user_latent, MF_item_latent])\n",
    "    \n",
    "    \n",
    "    # MLP part\n",
    "    MLP_user_latent = Flatten()(MLP_Embedding_User)\n",
    "    MLP_item_latent = Flatten()(MLP_Embedding_Item)\n",
    "    mlp_vector = Concatenate()([MLP_user_latent, MLP_item_latent])\n",
    "    for idx in range(1, num_layer):\n",
    "        layer = Dense(mlp_layers[idx], kernel_regularizer= l2(reg_mlp_layers[idx]), activation='relu', name = 'MLP_layer%d_output' %idx)\n",
    "        mlp_vector = layer(mlp_vector)\n",
    "    \n",
    "    # Concatenate MF and MLP\n",
    "    predict_vector = Concatenate(axis = -1, name=\"MLP_MF_concatenate_layer\")([mf_vector, mlp_vector])\n",
    "    \n",
    "    # Final prediction layer\n",
    "    output = Dense(1, activation='sigmoid', name = 'prediction')(predict_vector)\n",
    "    \n",
    "    model = Model([user_input, item_input], output)\n",
    "    \n",
    "    return model"
   ]
  },
  {
   "cell_type": "markdown",
   "metadata": {},
   "source": [
    "# Compile and fit the model"
   ]
  },
  {
   "cell_type": "code",
   "execution_count": 12,
   "metadata": {},
   "outputs": [],
   "source": [
    "# model = get_model_dot_product(num_users, num_items, 20, [1,1])\n",
    "# model = get_model_gmf(num_users, num_items, 20, [1,1])\n",
    "# model = get_model_mlp(num_users, num_items, [40, 100, 100], [1, 1, 1])\n",
    "model = get_model_nmf(num_users, num_items, mf_dim=10, mlp_layers=[40, 10], reg_mlp_layers=[1, 1], reg_mf=0)\n",
    "    \n",
    "#Optimizer\n",
    "model.compile(optimizer=Adam(lr=0.01), loss='binary_crossentropy', metrics=[MeanSquaredError(), RootMeanSquaredError()])"
   ]
  },
  {
   "cell_type": "code",
   "execution_count": 13,
   "metadata": {},
   "outputs": [
    {
     "name": "stdout",
     "output_type": "stream",
     "text": [
      "Model: \"model\"\n",
      "__________________________________________________________________________________________________\n",
      "Layer (type)                    Output Shape         Param #     Connected to                     \n",
      "==================================================================================================\n",
      "user_input (InputLayer)         [(None, 1)]          0                                            \n",
      "__________________________________________________________________________________________________\n",
      "item_input (InputLayer)         [(None, 1)]          0                                            \n",
      "__________________________________________________________________________________________________\n",
      "MLP_user_embedding (Embedding)  (None, 1, 20)        18860       user_input[0][0]                 \n",
      "__________________________________________________________________________________________________\n",
      "MLP_item_embedding (Embedding)  (None, 1, 20)        33640       item_input[0][0]                 \n",
      "__________________________________________________________________________________________________\n",
      "MF_user_embedding (Embedding)   (None, 1, 10)        9430        user_input[0][0]                 \n",
      "__________________________________________________________________________________________________\n",
      "MF_item_embedding (Embedding)   (None, 1, 10)        16820       item_input[0][0]                 \n",
      "__________________________________________________________________________________________________\n",
      "flatten_2 (Flatten)             (None, 20)           0           MLP_user_embedding[0][0]         \n",
      "__________________________________________________________________________________________________\n",
      "flatten_3 (Flatten)             (None, 20)           0           MLP_item_embedding[0][0]         \n",
      "__________________________________________________________________________________________________\n",
      "flatten (Flatten)               (None, 10)           0           MF_user_embedding[0][0]          \n",
      "__________________________________________________________________________________________________\n",
      "flatten_1 (Flatten)             (None, 10)           0           MF_item_embedding[0][0]          \n",
      "__________________________________________________________________________________________________\n",
      "concatenate (Concatenate)       (None, 40)           0           flatten_2[0][0]                  \n",
      "                                                                 flatten_3[0][0]                  \n",
      "__________________________________________________________________________________________________\n",
      "MF_output (Multiply)            (None, 10)           0           flatten[0][0]                    \n",
      "                                                                 flatten_1[0][0]                  \n",
      "__________________________________________________________________________________________________\n",
      "MLP_layer1_output (Dense)       (None, 10)           410         concatenate[0][0]                \n",
      "__________________________________________________________________________________________________\n",
      "MLP_MF_concatenate_layer (Conca (None, 20)           0           MF_output[0][0]                  \n",
      "                                                                 MLP_layer1_output[0][0]          \n",
      "__________________________________________________________________________________________________\n",
      "prediction (Dense)              (None, 1)            21          MLP_MF_concatenate_layer[0][0]   \n",
      "==================================================================================================\n",
      "Total params: 79,181\n",
      "Trainable params: 79,181\n",
      "Non-trainable params: 0\n",
      "__________________________________________________________________________________________________\n",
      "None\n"
     ]
    }
   ],
   "source": [
    "print(model.summary())"
   ]
  },
  {
   "cell_type": "code",
   "execution_count": 14,
   "metadata": {},
   "outputs": [],
   "source": [
    "# Clear any logs from previous runs\n",
    "!rm -rf ./logs/ "
   ]
  },
  {
   "cell_type": "code",
   "execution_count": 15,
   "metadata": {},
   "outputs": [],
   "source": [
    "log_dir = \"logs/fit/\" + datetime.datetime.now().strftime(\"%Y%m%d-%H%M%S\")\n",
    "tensorboard_callback = tf.keras.callbacks.TensorBoard(log_dir=log_dir)\n",
    "early_stopping_callback = tf.keras.callbacks.EarlyStopping(patience=3)"
   ]
  },
  {
   "cell_type": "code",
   "execution_count": 16,
   "metadata": {},
   "outputs": [
    {
     "name": "stdout",
     "output_type": "stream",
     "text": [
      "Epoch 1/10\n",
      "18114/18114 - 37s - loss: 0.4303 - mean_squared_error: 0.1315 - root_mean_squared_error: 0.3626 - val_loss: 0.3835 - val_mean_squared_error: 0.1202 - val_root_mean_squared_error: 0.3467\n",
      "Epoch 2/10\n",
      "18114/18114 - 34s - loss: 0.3843 - mean_squared_error: 0.1236 - root_mean_squared_error: 0.3516 - val_loss: 0.3440 - val_mean_squared_error: 0.1099 - val_root_mean_squared_error: 0.3315\n",
      "Epoch 3/10\n",
      "18114/18114 - 31s - loss: 0.3756 - mean_squared_error: 0.1221 - root_mean_squared_error: 0.3494 - val_loss: 0.3523 - val_mean_squared_error: 0.1119 - val_root_mean_squared_error: 0.3345\n",
      "Epoch 4/10\n",
      "18114/18114 - 31s - loss: 0.3751 - mean_squared_error: 0.1219 - root_mean_squared_error: 0.3492 - val_loss: 0.3435 - val_mean_squared_error: 0.1096 - val_root_mean_squared_error: 0.3311\n",
      "Epoch 5/10\n",
      "18114/18114 - 32s - loss: 0.3753 - mean_squared_error: 0.1218 - root_mean_squared_error: 0.3490 - val_loss: 0.3408 - val_mean_squared_error: 0.1090 - val_root_mean_squared_error: 0.3302\n",
      "Epoch 6/10\n",
      "18114/18114 - 32s - loss: 0.3721 - mean_squared_error: 0.1204 - root_mean_squared_error: 0.3470 - val_loss: 0.3413 - val_mean_squared_error: 0.1063 - val_root_mean_squared_error: 0.3260\n",
      "Epoch 7/10\n",
      "18114/18114 - 32s - loss: 0.3665 - mean_squared_error: 0.1184 - root_mean_squared_error: 0.3441 - val_loss: 0.3243 - val_mean_squared_error: 0.1040 - val_root_mean_squared_error: 0.3225\n",
      "Epoch 8/10\n",
      "18114/18114 - 32s - loss: 0.3651 - mean_squared_error: 0.1179 - root_mean_squared_error: 0.3433 - val_loss: 0.3801 - val_mean_squared_error: 0.1123 - val_root_mean_squared_error: 0.3351\n",
      "Epoch 9/10\n",
      "18114/18114 - 32s - loss: 0.3632 - mean_squared_error: 0.1170 - root_mean_squared_error: 0.3421 - val_loss: 0.3315 - val_mean_squared_error: 0.1065 - val_root_mean_squared_error: 0.3264\n",
      "Epoch 10/10\n",
      "18114/18114 - 32s - loss: 0.3608 - mean_squared_error: 0.1159 - root_mean_squared_error: 0.3405 - val_loss: 0.3381 - val_mean_squared_error: 0.1037 - val_root_mean_squared_error: 0.3221\n"
     ]
    }
   ],
   "source": [
    "# Training\n",
    "hist = model.fit(x = [np.array(user_input_training), np.array(item_input_training)], #input\n",
    "                 y = np.array(labels_training), # labels \n",
    "                 validation_data = ([np.array(user_input_test), np.array(item_input_test)], np.array(labels_test)),\n",
    "                 callbacks = [tensorboard_callback, early_stopping_callback],\n",
    "                 batch_size=25, epochs=10, verbose=2, shuffle=True)"
   ]
  },
  {
   "cell_type": "code",
   "execution_count": 17,
   "metadata": {
    "scrolled": true
   },
   "outputs": [],
   "source": [
    "# Run tensorboard --logdir logs/fit in terminal"
   ]
  },
  {
   "cell_type": "code",
   "execution_count": 18,
   "metadata": {},
   "outputs": [
    {
     "name": "stdout",
     "output_type": "stream",
     "text": [
      "14152/14152 [==============================] - 19s 1ms/step - loss: 0.3393 - mean_squared_error: 0.1101 - root_mean_squared_error: 0.3318 0s - loss: 0.3402 - mean_squared_error: \n"
     ]
    },
    {
     "data": {
      "text/plain": [
       "[0.33927974104881287, 0.11012396216392517, 0.3318493068218231]"
      ]
     },
     "execution_count": 18,
     "metadata": {},
     "output_type": "execute_result"
    }
   ],
   "source": [
    "model.evaluate(x = [np.array(user_input_training), np.array(item_input_training)], y = np.array(labels_training))"
   ]
  },
  {
   "cell_type": "code",
   "execution_count": 19,
   "metadata": {},
   "outputs": [
    {
     "name": "stdout",
     "output_type": "stream",
     "text": [
      "1474/1474 [==============================] - 2s 1ms/step - loss: 0.3381 - mean_squared_error: 0.1037 - root_mean_squared_error: 0.3221\n"
     ]
    },
    {
     "data": {
      "text/plain": [
       "[0.3381277620792389, 0.10372933745384216, 0.3220703899860382]"
      ]
     },
     "execution_count": 19,
     "metadata": {},
     "output_type": "execute_result"
    }
   ],
   "source": [
    "model.evaluate(x = [np.array(user_input_test), np.array(item_input_test)], y = np.array(labels_test))"
   ]
  },
  {
   "cell_type": "code",
   "execution_count": 20,
   "metadata": {},
   "outputs": [],
   "source": [
    "# Take the corresponding layer name\n",
    "user_layer_name = 'MLP_user_embedding'\n",
    "user_embedding_layer_model = tf.keras.Model(inputs=model.input,\n",
    "                                       outputs=model.get_layer(user_layer_name).output)\n",
    "item_layer_name = 'MLP_item_embedding'\n",
    "item_embedding_layer_model = tf.keras.Model(inputs=model.input,\n",
    "                                       outputs=model.get_layer(item_layer_name).output)"
   ]
  },
  {
   "cell_type": "code",
   "execution_count": 21,
   "metadata": {},
   "outputs": [],
   "source": [
    "user_embedding = user_embedding_layer_model([X_train[\"user_id\"].unique(), np.zeros(X_train[\"user_id\"].nunique())])\n",
    "item_embedding = item_embedding_layer_model([np.zeros(X_train[\"item_id\"].nunique()), X_train['item_id'].unique()])"
   ]
  },
  {
   "cell_type": "code",
   "execution_count": 22,
   "metadata": {},
   "outputs": [
    {
     "data": {
      "text/plain": [
       "<tf.Tensor: shape=(943, 20), dtype=float32, numpy=\n",
       "array([[ 0.208342  , -0.24624884, -0.00896637, ...,  0.4941237 ,\n",
       "         1.247704  ,  1.2151544 ],\n",
       "       [-0.8695981 ,  0.7802609 ,  0.39058524, ...,  0.6570227 ,\n",
       "        -0.18461995, -0.6947603 ],\n",
       "       [ 0.12732166,  1.7560297 , -1.7483283 , ...,  0.9138868 ,\n",
       "         0.48202744, -1.0967463 ],\n",
       "       ...,\n",
       "       [ 2.217535  , -0.31542385,  0.08181551, ..., -1.394803  ,\n",
       "         1.5558014 ,  0.5322381 ],\n",
       "       [-1.3472519 , -0.14246857, -1.6205634 , ..., -1.4780706 ,\n",
       "        -3.0016947 ,  0.443716  ],\n",
       "       [ 0.8591271 , -1.1994821 ,  0.5723794 , ..., -2.580457  ,\n",
       "        -0.42483413,  2.1435823 ]], dtype=float32)>"
      ]
     },
     "execution_count": 22,
     "metadata": {},
     "output_type": "execute_result"
    }
   ],
   "source": [
    "user_embedding"
   ]
  },
  {
   "cell_type": "code",
   "execution_count": 23,
   "metadata": {},
   "outputs": [
    {
     "data": {
      "text/plain": [
       "<tf.Tensor: shape=(1675, 20), dtype=float32, numpy=\n",
       "array([[-3.3090112e+00, -1.1315795e+00,  2.9134538e+00, ...,\n",
       "        -2.8204441e+00, -2.1480088e+00,  3.1088510e+00],\n",
       "       [-7.3075652e-02,  8.1069148e-01,  2.1057263e-01, ...,\n",
       "        -1.8124223e-01, -2.1475883e-01,  4.2721593e-01],\n",
       "       [-8.4408857e-03,  1.4443563e-01,  7.5141559e-03, ...,\n",
       "        -3.1886537e-02, -2.6483300e-01,  2.9887655e-01],\n",
       "       ...,\n",
       "       [ 9.8523188e+00, -7.3046303e+00, -1.1276729e+01, ...,\n",
       "         1.0209695e+01,  1.1230894e+01, -1.0268100e+01],\n",
       "       [ 1.0492901e+01, -8.4913979e+00, -1.1257580e+01, ...,\n",
       "         1.1997350e+01,  1.1684444e+01, -1.0920278e+01],\n",
       "       [ 9.2690878e+00, -6.3645940e+00, -1.0006619e+01, ...,\n",
       "         1.0387606e+01,  9.9319592e+00, -1.0924037e+01]], dtype=float32)>"
      ]
     },
     "execution_count": 23,
     "metadata": {},
     "output_type": "execute_result"
    }
   ],
   "source": [
    "item_embedding"
   ]
  },
  {
   "cell_type": "code",
   "execution_count": null,
   "metadata": {},
   "outputs": [],
   "source": []
  }
 ],
 "metadata": {
  "kernelspec": {
   "display_name": "Python 3",
   "language": "python",
   "name": "python3"
  },
  "language_info": {
   "codemirror_mode": {
    "name": "ipython",
    "version": 3
   },
   "file_extension": ".py",
   "mimetype": "text/x-python",
   "name": "python",
   "nbconvert_exporter": "python",
   "pygments_lexer": "ipython3",
   "version": "3.8.0"
  }
 },
 "nbformat": 4,
 "nbformat_minor": 4
}
