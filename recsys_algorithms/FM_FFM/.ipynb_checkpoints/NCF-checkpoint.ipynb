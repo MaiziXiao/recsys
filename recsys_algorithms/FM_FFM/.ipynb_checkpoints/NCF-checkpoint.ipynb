{
 "cells": [
  {
   "cell_type": "code",
   "execution_count": 1,
   "metadata": {},
   "outputs": [],
   "source": [
    "import tensorflow as tf\n",
    "import pandas as pd\n",
    "import numpy as np\n",
    "from tensorflow.keras.layers import Embedding, Input, Dot, Dense, Flatten, Multiply, Concatenate\n",
    "from tensorflow.keras import Model\n",
    "from tensorflow.keras.optimizers import Adagrad, Adam, SGD, RMSprop\n",
    "from tensorflow.keras.regularizers import l2\n",
    "from tensorflow.keras.metrics import MeanSquaredError, RootMeanSquaredError\n",
    "import datetime"
   ]
  },
  {
   "cell_type": "markdown",
   "metadata": {},
   "source": [
    "# Preprocess data"
   ]
  },
  {
   "cell_type": "code",
   "execution_count": 2,
   "metadata": {},
   "outputs": [],
   "source": [
    "def preprocess_data(data_path):\n",
    "    header_data = ['user_id', 'item_id', 'rating', 'timestamp']\n",
    "    data = pd.read_csv(data_path, sep='\\t', names=header_data)\n",
    "    data = data.drop(\"timestamp\", axis=1).astype(int)\n",
    "    \n",
    "    num_items = data[\"item_id\"].max()\n",
    "    num_users = data[\"user_id\"].max()\n",
    "    \n",
    "    y = data[\"rating\"]\n",
    "    y = np.where(y==5, 1, 0)\n",
    "\n",
    "    X = data.drop(\"rating\", axis=1)\n",
    "    # Minus 1 so the index starts from 0\n",
    "    X = X-1\n",
    "    X = X.astype('category')\n",
    "    \n",
    "    return X, y, num_items, num_users"
   ]
  },
  {
   "cell_type": "code",
   "execution_count": 3,
   "metadata": {},
   "outputs": [],
   "source": [
    "X_train, y_train, num_items, num_users = preprocess_data(\"data/ub.base\")\n",
    "X_test , y_test, _, _ = preprocess_data(\"data/ub.test\")"
   ]
  },
  {
   "cell_type": "code",
   "execution_count": 4,
   "metadata": {},
   "outputs": [
    {
     "name": "stdout",
     "output_type": "stream",
     "text": [
      "(90570, 2) (90570,) (9430, 2) (9430,)\n"
     ]
    }
   ],
   "source": [
    "print(X_train.shape, y_train.shape, X_test.shape, y_test.shape)"
   ]
  },
  {
   "cell_type": "markdown",
   "metadata": {},
   "source": [
    "# Negative Sampling"
   ]
  },
  {
   "cell_type": "code",
   "execution_count": 5,
   "metadata": {},
   "outputs": [],
   "source": [
    "def get_train_instances(users, items, num_negatives):\n",
    "    user_input, item_input, labels = [],[],[]\n",
    "    num_users = users.shape[0]\n",
    "    for (u, i) in zip(users, items):\n",
    "        # positive instance\n",
    "        user_input.append(u)\n",
    "        item_input.append(i)\n",
    "        labels.append(1)\n",
    "        # negative instances\n",
    "        for t in range(num_negatives):\n",
    "            j = np.random.randint(num_items)\n",
    "#             while train.has_key((u, j)):\n",
    "#                 j = np.random.randint(num_items)\n",
    "            user_input.append(u)\n",
    "            item_input.append(j)\n",
    "            labels.append(0)\n",
    "    return user_input, item_input, labels"
   ]
  },
  {
   "cell_type": "code",
   "execution_count": 6,
   "metadata": {},
   "outputs": [],
   "source": [
    "user_input_training, item_input_training, labels_training \\\n",
    "    = get_train_instances(X_train[\"user_id\"].to_numpy(), X_train[\"item_id\"].to_numpy(), 4)\n",
    "user_input_test, item_input_test, labels_test \\\n",
    "    = get_train_instances(X_test[\"user_id\"].to_numpy(), X_test[\"item_id\"].to_numpy(), 4)"
   ]
  },
  {
   "cell_type": "code",
   "execution_count": 7,
   "metadata": {},
   "outputs": [
    {
     "name": "stdout",
     "output_type": "stream",
     "text": [
      "452850 47150\n"
     ]
    }
   ],
   "source": [
    "print(len(user_input_training), len(user_input_test))"
   ]
  },
  {
   "cell_type": "markdown",
   "metadata": {},
   "source": [
    "# Get model"
   ]
  },
  {
   "cell_type": "code",
   "execution_count": 8,
   "metadata": {},
   "outputs": [],
   "source": [
    "# Dot product model\n",
    "def get_model_dot_product(num_users, num_items, latent_dim, regs=[0,0]):\n",
    "    \n",
    "    # Input variables\n",
    "    user_input = Input(shape=(1,), dtype='int32', name = 'user_input')\n",
    "    item_input = Input(shape=(1,), dtype='int32', name = 'item_input')\n",
    "    \n",
    "    # Embedding layers\n",
    "    user_embedding_layer = Embedding(input_dim = num_users, output_dim = latent_dim, name = 'user_embedding',\n",
    "                                  embeddings_initializer='uniform', input_length=1)\n",
    "    user_embedding = user_embedding_layer(user_input)\n",
    "    \n",
    "    item_embedding_layer = Embedding(input_dim = num_items, output_dim = latent_dim, name = 'item_embedding',\n",
    "                                  embeddings_initializer='uniform', input_length=1)\n",
    "    item_embedding = item_embedding_layer(item_input)\n",
    "    \n",
    "    # Flatten embeddings\n",
    "    user_latent = Flatten()(user_embedding)\n",
    "    item_latent = Flatten()(item_embedding)\n",
    "    \n",
    "    # Dot product layer\n",
    "    dotted = Dot(axes=1)([user_latent, item_latent])\n",
    "    \n",
    "    # add the sigmoid output layer\n",
    "    output = Dense(1, activation='sigmoid')(dotted)\n",
    "    \n",
    "    model = Model([user_input, item_input], output)\n",
    "    \n",
    "    return model"
   ]
  },
  {
   "cell_type": "code",
   "execution_count": 9,
   "metadata": {},
   "outputs": [],
   "source": [
    "# GMF model\n",
    "def get_model_gmf(num_users, num_items, latent_dim, regs=[0,0]):\n",
    "    \n",
    "    # Input variables\n",
    "    user_input = Input(shape=(1,), dtype='int32', name = 'user_input')\n",
    "    item_input = Input(shape=(1,), dtype='int32', name = 'item_input')\n",
    "    \n",
    "    # Embedding layers\n",
    "    user_embedding_layer = Embedding(input_dim = num_users, output_dim = latent_dim, name = 'user_embedding',\n",
    "                                  embeddings_initializer='uniform', input_length=1)\n",
    "    user_embedding = user_embedding_layer(user_input)\n",
    "    \n",
    "    item_embedding_layer = Embedding(input_dim = num_items, output_dim = latent_dim, name = 'item_embedding',\n",
    "                                  embeddings_initializer='uniform', input_length=1)\n",
    "    item_embedding = item_embedding_layer(item_input)\n",
    "    \n",
    "    # Flatten embeddings\n",
    "    user_latent = Flatten()(user_embedding)\n",
    "    item_latent = Flatten()(item_embedding)\n",
    "    \n",
    "    # Element wise multiply layer\n",
    "    multiply = Multiply()([user_latent, item_latent])\n",
    "    \n",
    "    # add the sigmoid output layer\n",
    "    output = Dense(1, activation='sigmoid')(multiply)\n",
    "    \n",
    "    model = Model([user_input, item_input], output)\n",
    "    \n",
    "    return model"
   ]
  },
  {
   "cell_type": "code",
   "execution_count": 10,
   "metadata": {},
   "outputs": [],
   "source": [
    "# MLP model\n",
    "def get_model_mlp(num_users, num_items,  layers = [20,10], reg_layers=[0,0]):\n",
    "    assert len(layers) == len(reg_layers)\n",
    "    num_layer = len(layers) #Number of layers in the MLP\n",
    "    \n",
    "    # Input variables\n",
    "    user_input = Input(shape=(1,), dtype='int32', name = 'user_input')\n",
    "    item_input = Input(shape=(1,), dtype='int32', name = 'item_input')\n",
    "    \n",
    "    # Embedding layers, embedding size is half of the first MLP layer\n",
    "    user_embedding_layer = Embedding(input_dim = num_users, output_dim = int(layers[0]/2), name = 'user_embedding',\n",
    "                                  embeddings_initializer='uniform', input_length=1)\n",
    "    user_embedding = user_embedding_layer(user_input)\n",
    "    \n",
    "    item_embedding_layer = Embedding(input_dim = num_items, output_dim = int(layers[0]/2), name = 'item_embedding',\n",
    "                                  embeddings_initializer='uniform', input_length=1)\n",
    "    item_embedding = item_embedding_layer(item_input)\n",
    "    \n",
    "    # Flatten embeddings\n",
    "    user_latent = Flatten()(user_embedding)\n",
    "    item_latent = Flatten()(item_embedding)\n",
    "    \n",
    "    # Concatenate two embeddings\n",
    "    vector = Concatenate()([user_latent, item_latent])\n",
    "    \n",
    "    # MLP layer\n",
    "    for idx in range(1, num_layer):\n",
    "        layer = Dense(layers[idx], kernel_regularizer= l2(reg_layers[idx]), activation='relu', name = 'layer%d' %idx)\n",
    "        vector = layer(vector)\n",
    "    \n",
    "    # Final prediction layer\n",
    "    output = Dense(1, activation='sigmoid', name = 'prediction')(vector)\n",
    "    \n",
    "    model = Model([user_input, item_input], output)\n",
    "    \n",
    "    return model"
   ]
  },
  {
   "cell_type": "code",
   "execution_count": 11,
   "metadata": {},
   "outputs": [],
   "source": [
    "# NMF\n",
    "def get_model_nmf(num_users, num_items,  mf_dim=10, mlp_layers=[20, 10], reg_mlp_layers=[1, 1], reg_mf=0):\n",
    "    assert len(mlp_layers) == len(reg_mlp_layers)\n",
    "    num_layer = len(mlp_layers) #Number of layers in the MLP\n",
    "    \n",
    "    # Input variables\n",
    "    user_input = Input(shape=(1,), dtype='int32', name = 'user_input')\n",
    "    item_input = Input(shape=(1,), dtype='int32', name = 'item_input')\n",
    "    \n",
    "    # Embedding layers, embedding size is half of the first MLP layer\n",
    "    MF_Embedding_User = Embedding(input_dim = num_users, output_dim = mf_dim, name = 'MF_user_embedding',\n",
    "                                  embeddings_initializer='uniform', input_length=1)(user_input)\n",
    "    MF_Embedding_Item = Embedding(input_dim = num_items, output_dim = mf_dim, name = 'MF_item_embedding',\n",
    "                                  embeddings_initializer='uniform', input_length=1)(item_input)\n",
    "    MLP_Embedding_User = Embedding(input_dim = num_users, output_dim = int(mlp_layers[0]/2), name = 'MLP_user_embedding',\n",
    "                                  embeddings_initializer='uniform', input_length=1)(user_input)\n",
    "    MLP_Embedding_Item = Embedding(input_dim = num_items, output_dim = int(mlp_layers[0]/2), name = 'MLP_item_embedding',\n",
    "                                  embeddings_initializer='uniform', input_length=1)(item_input)\n",
    "    \n",
    "    # MF part\n",
    "    MF_user_latent = Flatten()(MF_Embedding_User)\n",
    "    MF_item_latent = Flatten()(MF_Embedding_Item)\n",
    "    mf_vector = Multiply(name=\"MF_output\")([MF_user_latent, MF_item_latent])\n",
    "    \n",
    "    \n",
    "    # MLP part\n",
    "    MLP_user_latent = Flatten()(MLP_Embedding_User)\n",
    "    MLP_item_latent = Flatten()(MLP_Embedding_Item)\n",
    "    mlp_vector = Concatenate()([MLP_user_latent, MLP_item_latent])\n",
    "    for idx in range(1, num_layer):\n",
    "        layer = Dense(mlp_layers[idx], kernel_regularizer= l2(reg_mlp_layers[idx]), activation='relu', name = 'MLP_layer%d_output' %idx)\n",
    "        mlp_vector = layer(mlp_vector)\n",
    "    \n",
    "    # Concatenate MF and MLP\n",
    "    predict_vector = Concatenate(axis = -1, name=\"MLP_MF_concatenate_layer\")([mf_vector, mlp_vector])\n",
    "    \n",
    "    # Final prediction layer\n",
    "    output = Dense(1, activation='sigmoid', name = 'prediction')(predict_vector)\n",
    "    \n",
    "    model = Model([user_input, item_input], output)\n",
    "    \n",
    "    return model"
   ]
  },
  {
   "cell_type": "markdown",
   "metadata": {},
   "source": [
    "# Compile and fit the model"
   ]
  },
  {
   "cell_type": "code",
   "execution_count": 12,
   "metadata": {},
   "outputs": [],
   "source": [
    "# model = get_model_dot_product(num_users, num_items, 20, [1,1])\n",
    "# model = get_model_gmf(num_users, num_items, 20, [1,1])\n",
    "# model = get_model_mlp(num_users, num_items, [40, 100, 100], [1, 1, 1])\n",
    "model = get_model_nmf(num_users, num_items, mf_dim=10, mlp_layers=[40, 10], reg_mlp_layers=[1, 1], reg_mf=0)\n",
    "    \n",
    "#Optimizer\n",
    "model.compile(optimizer=Adam(lr=0.01), loss='binary_crossentropy', metrics=[MeanSquaredError(), RootMeanSquaredError()])"
   ]
  },
  {
   "cell_type": "code",
   "execution_count": 13,
   "metadata": {},
   "outputs": [
    {
     "name": "stdout",
     "output_type": "stream",
     "text": [
      "Model: \"model\"\n",
      "__________________________________________________________________________________________________\n",
      "Layer (type)                    Output Shape         Param #     Connected to                     \n",
      "==================================================================================================\n",
      "user_input (InputLayer)         [(None, 1)]          0                                            \n",
      "__________________________________________________________________________________________________\n",
      "item_input (InputLayer)         [(None, 1)]          0                                            \n",
      "__________________________________________________________________________________________________\n",
      "MLP_user_embedding (Embedding)  (None, 1, 20)        18860       user_input[0][0]                 \n",
      "__________________________________________________________________________________________________\n",
      "MLP_item_embedding (Embedding)  (None, 1, 20)        33640       item_input[0][0]                 \n",
      "__________________________________________________________________________________________________\n",
      "MF_user_embedding (Embedding)   (None, 1, 10)        9430        user_input[0][0]                 \n",
      "__________________________________________________________________________________________________\n",
      "MF_item_embedding (Embedding)   (None, 1, 10)        16820       item_input[0][0]                 \n",
      "__________________________________________________________________________________________________\n",
      "flatten_2 (Flatten)             (None, 20)           0           MLP_user_embedding[0][0]         \n",
      "__________________________________________________________________________________________________\n",
      "flatten_3 (Flatten)             (None, 20)           0           MLP_item_embedding[0][0]         \n",
      "__________________________________________________________________________________________________\n",
      "flatten (Flatten)               (None, 10)           0           MF_user_embedding[0][0]          \n",
      "__________________________________________________________________________________________________\n",
      "flatten_1 (Flatten)             (None, 10)           0           MF_item_embedding[0][0]          \n",
      "__________________________________________________________________________________________________\n",
      "concatenate (Concatenate)       (None, 40)           0           flatten_2[0][0]                  \n",
      "                                                                 flatten_3[0][0]                  \n",
      "__________________________________________________________________________________________________\n",
      "MF_output (Multiply)            (None, 10)           0           flatten[0][0]                    \n",
      "                                                                 flatten_1[0][0]                  \n",
      "__________________________________________________________________________________________________\n",
      "MLP_layer1_output (Dense)       (None, 10)           410         concatenate[0][0]                \n",
      "__________________________________________________________________________________________________\n",
      "MLP_MF_concatenate_layer (Conca (None, 20)           0           MF_output[0][0]                  \n",
      "                                                                 MLP_layer1_output[0][0]          \n",
      "__________________________________________________________________________________________________\n",
      "prediction (Dense)              (None, 1)            21          MLP_MF_concatenate_layer[0][0]   \n",
      "==================================================================================================\n",
      "Total params: 79,181\n",
      "Trainable params: 79,181\n",
      "Non-trainable params: 0\n",
      "__________________________________________________________________________________________________\n",
      "None\n"
     ]
    }
   ],
   "source": [
    "print(model.summary())"
   ]
  },
  {
   "cell_type": "code",
   "execution_count": 14,
   "metadata": {},
   "outputs": [],
   "source": [
    "# Clear any logs from previous runs\n",
    "!rm -rf ./logs/ "
   ]
  },
  {
   "cell_type": "code",
   "execution_count": 15,
   "metadata": {},
   "outputs": [],
   "source": [
    "log_dir = \"logs/fit/\" + datetime.datetime.now().strftime(\"%Y%m%d-%H%M%S\")\n",
    "tensorboard_callback = tf.keras.callbacks.TensorBoard(log_dir=log_dir)\n",
    "early_stopping_callback = tf.keras.callbacks.EarlyStopping(patience=3)"
   ]
  },
  {
   "cell_type": "code",
   "execution_count": 16,
   "metadata": {},
   "outputs": [
    {
     "name": "stdout",
     "output_type": "stream",
     "text": [
      "Epoch 1/10\n",
      "18114/18114 - 29s - loss: 0.4288 - mean_squared_error: 0.1320 - root_mean_squared_error: 0.3633 - val_loss: 0.3890 - val_mean_squared_error: 0.1240 - val_root_mean_squared_error: 0.3521\n",
      "Epoch 2/10\n",
      "18114/18114 - 29s - loss: 0.3835 - mean_squared_error: 0.1241 - root_mean_squared_error: 0.3522 - val_loss: 0.3451 - val_mean_squared_error: 0.1103 - val_root_mean_squared_error: 0.3321\n",
      "Epoch 3/10\n",
      "18114/18114 - 29s - loss: 0.3763 - mean_squared_error: 0.1221 - root_mean_squared_error: 0.3495 - val_loss: 0.3375 - val_mean_squared_error: 0.1083 - val_root_mean_squared_error: 0.3291\n",
      "Epoch 4/10\n",
      "18114/18114 - 29s - loss: 0.3760 - mean_squared_error: 0.1220 - root_mean_squared_error: 0.3493 - val_loss: 0.3457 - val_mean_squared_error: 0.1103 - val_root_mean_squared_error: 0.3322\n",
      "Epoch 5/10\n",
      "18114/18114 - 29s - loss: 0.3763 - mean_squared_error: 0.1219 - root_mean_squared_error: 0.3492 - val_loss: 0.3491 - val_mean_squared_error: 0.1094 - val_root_mean_squared_error: 0.3308\n",
      "Epoch 6/10\n",
      "18114/18114 - 29s - loss: 0.3704 - mean_squared_error: 0.1198 - root_mean_squared_error: 0.3461 - val_loss: 0.3417 - val_mean_squared_error: 0.1092 - val_root_mean_squared_error: 0.3304\n"
     ]
    }
   ],
   "source": [
    "# Training\n",
    "hist = model.fit(x = [np.array(user_input_training), np.array(item_input_training)], #input\n",
    "                 y = np.array(labels_training), # labels \n",
    "                 validation_data = ([np.array(user_input_test), np.array(item_input_test)], np.array(labels_test)),\n",
    "                 callbacks = [tensorboard_callback, early_stopping_callback],\n",
    "                 batch_size=25, epochs=10, verbose=2, shuffle=True)"
   ]
  },
  {
   "cell_type": "code",
   "execution_count": 17,
   "metadata": {
    "scrolled": true
   },
   "outputs": [],
   "source": [
    "# Run tensorboard --logdir logs/fit in terminal"
   ]
  },
  {
   "cell_type": "code",
   "execution_count": 20,
   "metadata": {},
   "outputs": [
    {
     "name": "stdout",
     "output_type": "stream",
     "text": [
      "14152/14152 [==============================] - 21s 1ms/step - loss: 0.3559 - mean_squared_error: 0.1156 - root_mean_squared_error: 0.3400\n"
     ]
    },
    {
     "data": {
      "text/plain": [
       "[0.3559238016605377, 0.11557349562644958, 0.3399610221385956]"
      ]
     },
     "execution_count": 20,
     "metadata": {},
     "output_type": "execute_result"
    }
   ],
   "source": [
    "model.evaluate(x = [np.array(user_input_training), np.array(item_input_training)], y = np.array(labels_training))"
   ]
  },
  {
   "cell_type": "code",
   "execution_count": 18,
   "metadata": {},
   "outputs": [
    {
     "name": "stdout",
     "output_type": "stream",
     "text": [
      "1474/1474 [==============================] - 2s 2ms/step - loss: 0.3417 - mean_squared_error: 0.1092 - root_mean_squared_error: 0.3304\n"
     ]
    },
    {
     "data": {
      "text/plain": [
       "[0.3417290151119232, 0.10919277369976044, 0.33044329285621643]"
      ]
     },
     "execution_count": 18,
     "metadata": {},
     "output_type": "execute_result"
    }
   ],
   "source": [
    "model.evaluate(x = [np.array(user_input_test), np.array(item_input_test)], y = np.array(labels_test))"
   ]
  },
  {
   "cell_type": "code",
   "execution_count": 21,
   "metadata": {},
   "outputs": [],
   "source": [
    "# Take the corresponding layer name\n",
    "user_layer_name = 'MLP_user_embedding'\n",
    "user_embedding_layer_model = tf.keras.Model(inputs=model.input,\n",
    "                                       outputs=model.get_layer(user_layer_name).output)\n",
    "item_layer_name = 'MLP_item_embedding'\n",
    "item_embedding_layer_model = tf.keras.Model(inputs=model.input,\n",
    "                                       outputs=model.get_layer(item_layer_name).output)"
   ]
  },
  {
   "cell_type": "code",
   "execution_count": 23,
   "metadata": {},
   "outputs": [],
   "source": [
    "user_embedding = user_embedding_layer_model([X_train[\"user_id\"].unique(), np.zeros(X_train[\"user_id\"].nunique())])\n",
    "item_embedding = item_embedding_layer_model([np.zeros(X_train[\"item_id\"].nunique()), X_train['item_id'].unique()])"
   ]
  },
  {
   "cell_type": "code",
   "execution_count": 24,
   "metadata": {},
   "outputs": [
    {
     "data": {
      "text/plain": [
       "<tf.Tensor: shape=(943, 20), dtype=float32, numpy=\n",
       "array([[-2.0033271 ,  0.5904838 ,  0.93900466, ..., -0.67950684,\n",
       "        -1.0107559 , -1.6100581 ],\n",
       "       [ 0.85070235,  0.00541484,  0.30535725, ...,  3.1354122 ,\n",
       "         0.21869719,  0.61427754],\n",
       "       [ 0.16278872,  0.48043352, -1.9866865 , ...,  0.32641444,\n",
       "         0.2142582 ,  0.08195353],\n",
       "       ...,\n",
       "       [-0.972533  ,  0.15127365,  1.1538212 , ...,  0.19976269,\n",
       "         0.6710257 ,  0.3668556 ],\n",
       "       [-0.683696  , -0.72120225, -1.3651665 , ..., -0.7133322 ,\n",
       "        -0.9754297 ,  2.0918026 ],\n",
       "       [-0.47959092, -0.14987373, -1.0891918 , ..., -0.49521285,\n",
       "         0.39609465, -0.5826363 ]], dtype=float32)>"
      ]
     },
     "execution_count": 24,
     "metadata": {},
     "output_type": "execute_result"
    }
   ],
   "source": [
    "user_embedding"
   ]
  },
  {
   "cell_type": "code",
   "execution_count": 25,
   "metadata": {},
   "outputs": [
    {
     "data": {
      "text/plain": [
       "<tf.Tensor: shape=(1675, 20), dtype=float32, numpy=\n",
       "array([[ 2.7229576 , -1.105682  ,  1.3418177 , ...,  2.721942  ,\n",
       "         2.2409976 , -1.6720752 ],\n",
       "       [ 0.7336192 , -0.8630612 ,  0.30974436, ...,  0.20996082,\n",
       "         0.48820525, -0.55639577],\n",
       "       [ 0.0594411 , -0.32444417,  0.41829103, ..., -0.38656452,\n",
       "        -0.30472952, -0.3879488 ],\n",
       "       ...,\n",
       "       [-8.843306  ,  8.643384  , -8.63309   , ..., -8.249027  ,\n",
       "        -8.783174  ,  8.211351  ],\n",
       "       [-8.460501  ,  7.7445517 , -7.8495474 , ..., -8.399564  ,\n",
       "        -8.278993  ,  7.4697475 ],\n",
       "       [-8.342359  ,  8.161148  , -7.7674675 , ..., -8.017623  ,\n",
       "        -7.72812   ,  8.049816  ]], dtype=float32)>"
      ]
     },
     "execution_count": 25,
     "metadata": {},
     "output_type": "execute_result"
    }
   ],
   "source": [
    "item_embedding"
   ]
  },
  {
   "cell_type": "code",
   "execution_count": null,
   "metadata": {},
   "outputs": [],
   "source": []
  }
 ],
 "metadata": {
  "kernelspec": {
   "display_name": "Python 3",
   "language": "python",
   "name": "python3"
  },
  "language_info": {
   "codemirror_mode": {
    "name": "ipython",
    "version": 3
   },
   "file_extension": ".py",
   "mimetype": "text/x-python",
   "name": "python",
   "nbconvert_exporter": "python",
   "pygments_lexer": "ipython3",
   "version": "3.6.9"
  }
 },
 "nbformat": 4,
 "nbformat_minor": 4
}
